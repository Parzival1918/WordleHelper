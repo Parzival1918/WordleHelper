{
 "cells": [
  {
   "cell_type": "code",
   "execution_count": 9,
   "metadata": {},
   "outputs": [],
   "source": [
    "#Read words in file web2 and store the ones that are 5 letters long in a file called words5\n",
    "wordLength = 5\n",
    "with open('web2') as f:\n",
    "    with open('words' + str(wordLength), 'w') as f2:\n",
    "        for line in f:\n",
    "            if len(line.strip()) == wordLength:\n",
    "                f2.write(line)\n"
   ]
  }
 ],
 "metadata": {
  "kernelspec": {
   "display_name": "base",
   "language": "python",
   "name": "python3"
  },
  "language_info": {
   "codemirror_mode": {
    "name": "ipython",
    "version": 3
   },
   "file_extension": ".py",
   "mimetype": "text/x-python",
   "name": "python",
   "nbconvert_exporter": "python",
   "pygments_lexer": "ipython3",
   "version": "3.9.12"
  },
  "orig_nbformat": 4
 },
 "nbformat": 4,
 "nbformat_minor": 2
}
